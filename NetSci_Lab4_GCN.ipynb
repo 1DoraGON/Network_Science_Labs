{
  "cells": [
    {
      "cell_type": "markdown",
      "metadata": {
        "id": "NEtYDH3ULh3M"
      },
      "source": [
        "<figure>\n",
        "  <IMG src=\"figures/logo-esi-sba.png\" WIDTH=300 height=\"100\" ALIGN=\"right\">\n",
        "</figure>\n",
        "\n",
        "# Practical Lab Series on Network Sciences   \n",
        "*By Dr. Belkacem KHALDI (b.khaldi@esi-sba.dz)*"
      ]
    },
    {
      "cell_type": "markdown",
      "metadata": {
        "id": "-zXeFsBmLzzH"
      },
      "source": [
        "## Notebook 4: Introduction to Graph Convolution Networks (GCN)\n",
        "This Jupyter Notebook is designed to help you grasp the most  different aspects of  Graph Convolution Networks (GCN) seen in the lecture."
      ]
    },
    {
      "cell_type": "markdown",
      "metadata": {
        "id": "afInY7Mc5EeB"
      },
      "source": [
        "##  Normalizing Features with Graph Convolutional Networks\n",
        "### Simple Example"
      ]
    },
    {
      "cell_type": "code",
      "execution_count": null,
      "metadata": {
        "colab": {
          "base_uri": "https://localhost:8080/",
          "height": 516
        },
        "id": "M0235oT1hCVK",
        "outputId": "7168bd58-d022-4df6-9787-50e664c03831"
      },
      "outputs": [
        {
          "data": {
            "image/png": "[encoded data removed]",
            "text/plain": [
              "<Figure size 640x480 with 1 Axes>"
            ]
          },
          "metadata": {},
          "output_type": "display_data"
        }
      ],
      "source": [
        "import networkx as nx\n",
        "import matplotlib.pyplot as plt\n",
        "\n",
        "# Create an empty graph\n",
        "G = nx.Graph()\n",
        "\n",
        "# Add nodes\n",
        "G.add_nodes_from([1, 2, 3, 4])\n",
        "\n",
        "# Add edges\n",
        "G.add_edge(1, 2)\n",
        "G.add_edge(1, 3)\n",
        "G.add_edge(1, 4)\n",
        "G.add_edge(3, 4)\n",
        "\n",
        "# Visualize the graph\n",
        "pos = nx.spring_layout(G)  # Positioning of nodes\n",
        "nx.draw(G, pos, with_labels=True, node_size=500, node_color=\"skyblue\", font_size=10, font_color=\"black\")\n",
        "plt.show()"
      ]
    },
    {
      "cell_type": "markdown",
      "metadata": {
        "id": "bjrLLv7j5iV3"
      },
      "source": [
        "### Calculating the Adjacency (A) and Degree Matrix (D)"
      ]
    },
    {
      "cell_type": "code",
      "execution_count": null,
      "metadata": {
        "colab": {
          "base_uri": "https://localhost:8080/"
        },
        "id": "rcKpXI4UkvnS",
        "outputId": "cc31b38c-4d38-4e83-c856-37f09139bc34"
      },
      "outputs": [
        {
          "name": "stdout",
          "output_type": "stream",
          "text": [
            "Adjacency Matrix A:\n",
            "[[0 1 1 1]\n",
            " [1 0 0 0]\n",
            " [1 0 0 1]\n",
            " [1 0 1 0]]\n",
            "\n",
            "Degree Matrix D:\n",
            "[[3 0 0 0]\n",
            " [0 1 0 0]\n",
            " [0 0 2 0]\n",
            " [0 0 0 2]]\n"
          ]
        }
      ],
      "source": [
        "import numpy as np\n",
        "# Calculate the adjacency matrix A\n",
        "A = nx.adjacency_matrix(G).toarray()\n",
        "print(\"Adjacency Matrix A:\")\n",
        "print(A)\n",
        "\n",
        "# Calculate the degree matrix D\n",
        "# Calculate the degree matrix D\n",
        "degree_values = list(dict(G.degree()).values())\n",
        "D = np.diag(degree_values)\n",
        "print(\"\\nDegree Matrix D:\")\n",
        "print(D)"
      ]
    },
    {
      "cell_type": "markdown",
      "metadata": {
        "id": "0bh55oUQ55yU"
      },
      "source": [
        "### Calculating the Adjacency Matrix with Self-Loop Enforcement (D_delta)"
      ]
    },
    {
      "cell_type": "code",
      "execution_count": null,
      "metadata": {
        "colab": {
          "base_uri": "https://localhost:8080/"
        },
        "id": "g9FttGVhqOIF",
        "outputId": "276a4c40-be3a-4c91-b88b-cd76de912363"
      },
      "outputs": [
        {
          "name": "stdout",
          "output_type": "stream",
          "text": [
            "A_delta:\n",
            "[[1. 1. 1. 1.]\n",
            " [1. 1. 0. 0.]\n",
            " [1. 0. 1. 1.]\n",
            " [1. 0. 1. 1.]]\n",
            "\n",
            "D_delta:\n",
            "[[4. 0. 0. 0.]\n",
            " [0. 2. 0. 0.]\n",
            " [0. 0. 3. 0.]\n",
            " [0. 0. 0. 3.]]\n"
          ]
        }
      ],
      "source": [
        "\n",
        "# Define the identity matrix I of the same size as A and D\n",
        "n = len(degree_values)\n",
        "I = np.identity(n)\n",
        "\n",
        "# Calculate A delta (A_delta) and D delta (D_delta)\n",
        "A_delta = A + I\n",
        "D_delta = D + I\n",
        "\n",
        "print(\"A_delta:\")\n",
        "print(A_delta)\n",
        "\n",
        "print(\"\\nD_delta:\")\n",
        "print(D_delta)"
      ]
    },
    {
      "cell_type": "markdown",
      "metadata": {
        "id": "nXz1E4i96dQl"
      },
      "source": [
        "### Calculating the Inverse of D_Delta"
      ]
    },
    {
      "cell_type": "code",
      "execution_count": null,
      "metadata": {
        "colab": {
          "base_uri": "https://localhost:8080/"
        },
        "id": "DGptS5uoscrA",
        "outputId": "ad2f15bb-d719-40f8-9c5d-edd861ee8af7"
      },
      "outputs": [
        {
          "name": "stdout",
          "output_type": "stream",
          "text": [
            "\n",
            "D^{-1}:\n",
            "[[0.33 0.   0.   0.  ]\n",
            " [0.   1.   0.   0.  ]\n",
            " [0.   0.   0.5  0.  ]\n",
            " [0.   0.   0.   0.5 ]]\n",
            "\n",
            "D_delta^{-1}:\n",
            "[[0.25 0.   0.   0.  ]\n",
            " [0.   0.5  0.   0.  ]\n",
            " [0.   0.   0.33 0.  ]\n",
            " [0.   0.   0.   0.33]]\n"
          ]
        }
      ],
      "source": [
        "np.set_printoptions(precision=2)\n",
        "print(\"\\nD^{-1}:\")\n",
        "print(np.linalg.inv(D))\n",
        "\n",
        "print(\"\\nD_delta^{-1}:\")\n",
        "print(np.linalg.inv(D_delta))"
      ]
    },
    {
      "cell_type": "markdown",
      "metadata": {
        "id": "zHI8deaB6oec"
      },
      "source": [
        "### Calculating The Normal Normalization"
      ]
    },
    {
      "cell_type": "code",
      "execution_count": null,
      "metadata": {
        "colab": {
          "base_uri": "https://localhost:8080/"
        },
        "id": "5-V0GMm-uwpX",
        "outputId": "4cf5db54-c0e0-4c1c-c98a-f1ef2ce07838"
      },
      "outputs": [
        {
          "name": "stdout",
          "output_type": "stream",
          "text": [
            "\n",
            "D^{-1}.A:\n",
            "[[0.   0.33 0.33 0.33]\n",
            " [1.   0.   0.   0.  ]\n",
            " [0.5  0.   0.   0.5 ]\n",
            " [0.5  0.   0.5  0.  ]]\n"
          ]
        }
      ],
      "source": [
        "print(\"\\nD^{-1}.A:\")\n",
        "print(np.linalg.inv(D)@ A)"
      ]
    },
    {
      "cell_type": "code",
      "execution_count": null,
      "metadata": {
        "colab": {
          "base_uri": "https://localhost:8080/"
        },
        "id": "YyGomMisvPwo",
        "outputId": "e6c251e4-395e-4857-f56e-29ae3a513a75"
      },
      "outputs": [
        {
          "name": "stdout",
          "output_type": "stream",
          "text": [
            "\n",
            "D_delta^{-1}.A_delta:\n",
            "[[0.25 0.25 0.25 0.25]\n",
            " [0.5  0.5  0.   0.  ]\n",
            " [0.33 0.   0.33 0.33]\n",
            " [0.33 0.   0.33 0.33]]\n"
          ]
        }
      ],
      "source": [
        "print(\"\\nD_delta^{-1}.A_delta:\")\n",
        "print(np.linalg.inv(D_delta)@ A_delta)"
      ]
    },
    {
      "cell_type": "markdown",
      "metadata": {
        "id": "sfG1N8y060kQ"
      },
      "source": [
        "### Computing The symmetry Normalization"
      ]
    },
    {
      "cell_type": "code",
      "execution_count": null,
      "metadata": {
        "colab": {
          "base_uri": "https://localhost:8080/"
        },
        "id": "P-9s1SHo6Sbg",
        "outputId": "89e0a150-3eba-4c79-981c-408b4d509c27"
      },
      "outputs": [
        {
          "name": "stdout",
          "output_type": "stream",
          "text": [
            "Symmetric Normalization (D^(-1/2) * A * D^(-1/2)):\n",
            "[[0.   0.58 0.41 0.41]\n",
            " [0.58 0.   0.   0.  ]\n",
            " [0.41 0.   0.   0.5 ]\n",
            " [0.41 0.   0.5  0.  ]]\n"
          ]
        }
      ],
      "source": [
        "# Compute the symmetric normalization D^(-1/2) * A * D^(-1/2)\n",
        "D_sqrt_inv = np.diag(1.0 / np.sqrt(np.diag(D)))\n",
        "A_symmetric = D_sqrt_inv @ A @ D_sqrt_inv\n",
        "\n",
        "# Print the results with 2 decimal format\n",
        "np.set_printoptions(precision=2)\n",
        "print(\"Symmetric Normalization (D^(-1/2) * A * D^(-1/2)):\")\n",
        "print(A_symmetric)"
      ]
    },
    {
      "cell_type": "markdown",
      "metadata": {
        "id": "RoI4KJwy69_S"
      },
      "source": [
        "## Challenge 1:\n",
        "Use the karate_club_graph from NetworkX and Compute the Normal Normalization and the Symmetry Normalization Matrices.\n",
        "\n",
        "- Use the following code for Help\n",
        "\n",
        "```python\n",
        "import networkx as nx\n",
        "import matplotlib.pyplot as plt\n",
        "\n",
        "# Load dataset\n",
        "G = nx.karate_club_graph()\n",
        "\n",
        "# Process labels (Mr. Hi = 0, Officer = 1)\n",
        "labels = []\n",
        "for node in G.nodes:\n",
        "    label = G.nodes[node]['club']\n",
        "    labels.append(1 if label == 'Officer' else 0)\n",
        "\n",
        "# Plot graph\n",
        "plt.figure(figsize=(12,12))\n",
        "plt.axis('off')\n",
        "nx.draw_networkx(G,\n",
        "                 pos=nx.spring_layout(G, seed=0),\n",
        "                 node_color=labels,\n",
        "                 node_size=800,\n",
        "                 cmap='coolwarm',\n",
        "                 font_size=14,\n",
        "                 font_color='white'\n",
        "                 )\n",
        "```"
      ]
    },
    {
      "cell_type": "code",
      "execution_count": null,
      "metadata": {
        "id": "wLhY1kK99PmL",
        "colab": {
          "base_uri": "https://localhost:8080/"
        },
        "outputId": "96e0b495-516e-4e9c-ca72-796c7cf024fd"
      },
      "outputs": [
        {
          "output_type": "stream",
          "name": "stdout",
          "text": [
            "Normalized Laplacian Matrix:\n",
            "[[ 1.   -0.11 -0.13 ... -0.07  0.    0.  ]\n",
            " [-0.11  1.   -0.19 ...  0.    0.    0.  ]\n",
            " [-0.13 -0.19  1.   ...  0.   -0.06  0.  ]\n",
            " ...\n",
            " [-0.07  0.    0.   ...  1.   -0.14 -0.13]\n",
            " [ 0.    0.   -0.06 ... -0.14  1.   -0.12]\n",
            " [ 0.    0.    0.   ... -0.13 -0.12  1.  ]]\n",
            "\n",
            "Symmetrically Normalized Laplacian Matrix:\n",
            "[[ 0.06 -0.01 -0.01 ... -0.01  0.    0.  ]\n",
            " [-0.01  0.11 -0.02 ...  0.    0.    0.  ]\n",
            " [-0.01 -0.02  0.1  ...  0.   -0.01  0.  ]\n",
            " ...\n",
            " [-0.01  0.    0.   ...  0.17 -0.02 -0.01]\n",
            " [ 0.    0.   -0.01 ... -0.02  0.08 -0.01]\n",
            " [ 0.    0.    0.   ... -0.01 -0.01  0.06]]\n"
          ]
        }
      ],
      "source": [
        "# Your Solution\n",
        "import networkx as nx\n",
        "import numpy as np\n",
        "\n",
        "# Load dataset\n",
        "G = nx.karate_club_graph()\n",
        "\n",
        "# Compute the Normalized Laplacian Matrix\n",
        "laplacian_matrix = nx.normalized_laplacian_matrix(G).toarray()\n",
        "\n",
        "# Compute the Symmetrically Normalized Laplacian Matrix\n",
        "degree_matrix = np.diag(list(dict(G.degree()).values()))\n",
        "symmetric_normalized_matrix = np.linalg.inv(np.sqrt(degree_matrix)).dot(laplacian_matrix).dot(np.linalg.inv(np.sqrt(degree_matrix)))\n",
        "np.set_printoptions(precision=2)\n",
        "print(\"Normalized Laplacian Matrix:\")\n",
        "print(laplacian_matrix)\n",
        "print(\"\\nSymmetrically Normalized Laplacian Matrix:\")\n",
        "print(symmetric_normalized_matrix)\n"
      ]
    },
    {
      "cell_type": "markdown",
      "metadata": {
        "id": "gCrtAUu69ZND"
      },
      "source": [
        "## Install the required package"
      ]
    },
    {
      "cell_type": "code",
      "execution_count": null,
      "metadata": {
        "colab": {
          "base_uri": "https://localhost:8080/"
        },
        "id": "3QpgRcWB-8hI",
        "outputId": "b2f9bd47-e8b6-46f7-9f8a-78b07aa81542"
      },
      "outputs": [
        {
          "name": "stdout",
          "output_type": "stream",
          "text": [
            "Requirement already satisfied: torch_geometric in /usr/local/lib/python3.10/dist-packages (2.4.0)\n",
            "Requirement already satisfied: tqdm in /usr/local/lib/python3.10/dist-packages (from torch_geometric) (4.66.1)\n",
            "Requirement already satisfied: numpy in /usr/local/lib/python3.10/dist-packages (from torch_geometric) (1.23.5)\n",
            "Requirement already satisfied: scipy in /usr/local/lib/python3.10/dist-packages (from torch_geometric) (1.11.3)\n",
            "Requirement already satisfied: jinja2 in /usr/local/lib/python3.10/dist-packages (from torch_geometric) (3.1.2)\n",
            "Requirement already satisfied: requests in /usr/local/lib/python3.10/dist-packages (from torch_geometric) (2.31.0)\n",
            "Requirement already satisfied: pyparsing in /usr/local/lib/python3.10/dist-packages (from torch_geometric) (3.1.1)\n",
            "Requirement already satisfied: scikit-learn in /usr/local/lib/python3.10/dist-packages (from torch_geometric) (1.2.2)\n",
            "Requirement already satisfied: psutil>=5.8.0 in /usr/local/lib/python3.10/dist-packages (from torch_geometric) (5.9.5)\n",
            "Requirement already satisfied: MarkupSafe>=2.0 in /usr/local/lib/python3.10/dist-packages (from jinja2->torch_geometric) (2.1.3)\n",
            "Requirement already satisfied: charset-normalizer<4,>=2 in /usr/local/lib/python3.10/dist-packages (from requests->torch_geometric) (3.3.1)\n",
            "Requirement already satisfied: idna<4,>=2.5 in /usr/local/lib/python3.10/dist-packages (from requests->torch_geometric) (3.4)\n",
            "Requirement already satisfied: urllib3<3,>=1.21.1 in /usr/local/lib/python3.10/dist-packages (from requests->torch_geometric) (2.0.7)\n",
            "Requirement already satisfied: certifi>=2017.4.17 in /usr/local/lib/python3.10/dist-packages (from requests->torch_geometric) (2023.7.22)\n",
            "Requirement already satisfied: joblib>=1.1.1 in /usr/local/lib/python3.10/dist-packages (from scikit-learn->torch_geometric) (1.3.2)\n",
            "Requirement already satisfied: threadpoolctl>=2.0.0 in /usr/local/lib/python3.10/dist-packages (from scikit-learn->torch_geometric) (3.2.0)\n"
          ]
        }
      ],
      "source": [
        "%pip install torch_geometric"
      ]
    },
    {
      "cell_type": "markdown",
      "metadata": {
        "id": "zb1Wgl589eVm"
      },
      "source": [
        "## Import the necessary libraries\n",
        "Downloading the Cora Dataset and Displaying Key Informations about it"
      ]
    },
    {
      "cell_type": "code",
      "execution_count": null,
      "metadata": {
        "colab": {
          "base_uri": "https://localhost:8080/"
        },
        "id": "dko3B-u0_fkO",
        "outputId": "f0be0186-8877-43db-971d-522bc7edc101"
      },
      "outputs": [
        {
          "name": "stdout",
          "output_type": "stream",
          "text": [
            "Dataset: Cora()\n",
            "---------------\n",
            "Number of graphs: 1\n",
            "Number of nodes: 2708\n",
            "Number of features: 1433\n",
            "Number of classes: 7\n"
          ]
        }
      ],
      "source": [
        "# Import necessary libraries\n",
        "from torch_geometric.datasets import Planetoid\n",
        "# Download the Cora dataset using Planetoid\n",
        "dataset = Planetoid(root=\".\", name=\"Cora\")\n",
        "# Access the dataset's data\n",
        "data = dataset[0]\n",
        "\n",
        "# Print general information about the dataset\n",
        "print(f'Dataset: {dataset}')\n",
        "print('---------------')\n",
        "print(f'Number of graphs: {len(dataset)}')\n",
        "print(f'Number of nodes: {data.x.shape[0]}')\n",
        "print(f'Number of features: {dataset.num_features}')\n",
        "print(f'Number of classes: {dataset.num_classes}')"
      ]
    },
    {
      "cell_type": "markdown",
      "metadata": {
        "id": "I0KboJWRDJm6"
      },
      "source": [
        "### Visualizing Node Degrees"
      ]
    },
    {
      "cell_type": "code",
      "execution_count": null,
      "metadata": {
        "colab": {
          "base_uri": "https://localhost:8080/",
          "height": 467
        },
        "id": "twYLxY83DKLg",
        "outputId": "c21ac21b-869f-4495-b00c-a7dd78e6e547"
      },
      "outputs": [
        {
          "data": {
            "text/plain": [
              "<BarContainer object of 37 artists>"
            ]
          },
          "execution_count": 100,
          "metadata": {},
          "output_type": "execute_result"
        },
        {
          "data": {
            "image/png": "[encoded data removed]",
            "text/plain": [
              "<Figure size 640x480 with 1 Axes>"
            ]
          },
          "metadata": {},
          "output_type": "display_data"
        }
      ],
      "source": [
        "\n",
        "from torch_geometric.utils import degree\n",
        "from collections import Counter\n",
        "import matplotlib.pyplot as plt\n",
        "# Get list of degrees for each node\n",
        "degrees = degree(data.edge_index[0]).numpy()\n",
        "\n",
        "# Count the number of nodes for each degree\n",
        "numbers = Counter(degrees)\n",
        "\n",
        "# Bar plot\n",
        "fig, ax = plt.subplots()\n",
        "ax.set_xlabel('Node degree')\n",
        "ax.set_ylabel('Number of nodes')\n",
        "plt.bar(numbers.keys(), numbers.values())"
      ]
    },
    {
      "cell_type": "markdown",
      "metadata": {
        "id": "pKzRwqUO9l4t"
      },
      "source": [
        "## Implementing GCN model\n",
        "### Manual GCN Layer Class Implementation"
      ]
    },
    {
      "cell_type": "code",
      "execution_count": null,
      "metadata": {
        "id": "uMQgIhJ2-_6r"
      },
      "outputs": [],
      "source": [
        "import torch\n",
        "import torch.nn as nn\n",
        "import torch.nn.functional as F\n",
        "\n",
        "class GCNLayer(nn.Module):\n",
        "    def __init__(self, in_features, out_features):\n",
        "        super(GCNLayer, self).__init__()\n",
        "        self.in_features = in_features\n",
        "        self.out_features = out_features\n",
        "        self.weight = nn.Parameter(torch.FloatTensor(in_features, out_features))\n",
        "        nn.init.xavier_uniform_(self.weight)\n",
        "\n",
        "    def forward(self, x, adjacency):\n",
        "        # Compute symmetric normalization\n",
        "        degree = torch.sum(adjacency, dim=1)\n",
        "        degree_sqrt_inv = 1.0 / torch.sqrt(degree)\n",
        "        D_sqrt_inv = torch.diag(degree_sqrt_inv)\n",
        "        adjacency = torch.mm(torch.mm(D_sqrt_inv, adjacency), D_sqrt_inv)\n",
        "\n",
        "        support = torch.mm(x, self.weight)\n",
        "        output = torch.spmm(adjacency, support)\n",
        "        return output\n"
      ]
    },
    {
      "cell_type": "markdown",
      "metadata": {
        "id": "ehHnYztW-Y_Q"
      },
      "source": [
        "### Declaring empty arrays to save validations and accuracies"
      ]
    },
    {
      "cell_type": "code",
      "execution_count": null,
      "metadata": {
        "id": "pXfbp1e5PeFk"
      },
      "outputs": [],
      "source": [
        "gcn_train_losses, gcn_val_losses =[], []\n",
        "gcn_train_accs, gcn_val_accs =[], []"
      ]
    },
    {
      "cell_type": "markdown",
      "metadata": {
        "id": "o_o3jtOe-iu9"
      },
      "source": [
        "## Implementing the GCN Class using the Manual GCNN Layer Class"
      ]
    },
    {
      "cell_type": "code",
      "execution_count": null,
      "metadata": {
        "id": "aOQgf-WS_bGZ"
      },
      "outputs": [],
      "source": [
        "class GCN(nn.Module):\n",
        "    def __init__(self, num_features, num_classes, hidden_dim):\n",
        "        super(GCN, self).__init__()\n",
        "        self.gcn1 = GCNLayer(num_features, hidden_dim)\n",
        "        self.gcn2 = GCNLayer(hidden_dim, num_classes)\n",
        "\n",
        "    def forward(self, x, adjacency):\n",
        "         h = self.gcn1(x, adjacency)\n",
        "         h = torch.relu(h)\n",
        "         h = self.gcn2(h, adjacency)\n",
        "         return F.log_softmax(h, dim=1)\n",
        "\n",
        "    def accuracy(self, y_pred, y_true):\n",
        "        # Calculate the accuracy of predictions\n",
        "        return torch.sum(y_pred == y_true) / len(y_true)\n",
        "\n",
        "    def fit(self, data, epochs, adjacency):\n",
        "        criterion = nn.CrossEntropyLoss()\n",
        "        optimizer = torch.optim.Adam(self.parameters(), lr=0.01, weight_decay=5e-4)\n",
        "\n",
        "        self.train()\n",
        "        for epoch in range(epochs + 1):\n",
        "            optimizer.zero_grad()\n",
        "            out = self(data.x, adjacency)\n",
        "            loss = criterion(out[data.train_mask], data.y[data.train_mask])\n",
        "            acc = self.accuracy(out[data.train_mask].argmax(dim=1), data.y[data.train_mask])\n",
        "\n",
        "            loss.backward()\n",
        "            optimizer.step()\n",
        "\n",
        "            if epoch % 20 == 0:\n",
        "                val_loss = criterion(out[data.val_mask], data.y[data.val_mask])\n",
        "                val_acc = self.accuracy(out[data.val_mask].argmax(dim=1), data.y[data.val_mask])\n",
        "                print(f'Epoch {epoch:>3} | Train Loss: {loss:.3f} | Train Acc: {acc*100:>5.2f}% | Val Loss: {val_loss:.2f} | Val Acc: {val_acc*100:.2f}%')\n",
        "                # Append the values\n",
        "                # Append the values\n",
        "                gcn_train_losses.append(loss.item())\n",
        "                gcn_val_losses.append(val_loss.item())\n",
        "                gcn_train_accs.append(acc.item())\n",
        "                gcn_val_accs.append(val_acc.item())\n",
        "\n",
        "        return self\n",
        "    @torch.no_grad()\n",
        "    def test(self, data, adjacency):\n",
        "        self.eval()\n",
        "        out = self(data.x, adjacency)\n",
        "        return self.accuracy(out.argmax(dim=1)[data.test_mask], data.y[data.test_mask])\n"
      ]
    },
    {
      "cell_type": "markdown",
      "metadata": {
        "id": "Lf86scrW-4QS"
      },
      "source": [
        "## Create and Train  the GCN model\n",
        "### Preparing the Adjacency Matrix"
      ]
    },
    {
      "cell_type": "code",
      "execution_count": null,
      "metadata": {
        "colab": {
          "base_uri": "https://localhost:8080/"
        },
        "id": "mhgAhgrQRYkF",
        "outputId": "6020bd26-e4c5-40d6-9f50-929105ffff3f"
      },
      "outputs": [
        {
          "data": {
            "text/plain": [
              "tensor([[1., 0., 0.,  ..., 0., 0., 0.],\n",
              "        [0., 1., 1.,  ..., 0., 0., 0.],\n",
              "        [0., 1., 1.,  ..., 0., 0., 0.],\n",
              "        ...,\n",
              "        [0., 0., 0.,  ..., 1., 0., 0.],\n",
              "        [0., 0., 0.,  ..., 0., 1., 1.],\n",
              "        [0., 0., 0.,  ..., 0., 1., 1.]])"
            ]
          },
          "execution_count": 93,
          "metadata": {},
          "output_type": "execute_result"
        }
      ],
      "source": [
        "from torch_geometric.utils import to_dense_adj\n",
        "\n",
        "adjacency = to_dense_adj(data.edge_index)[0]\n",
        "adjacency += torch.eye(len(adjacency))\n",
        "adjacency"
      ]
    },
    {
      "cell_type": "markdown",
      "metadata": {
        "id": "PBcVn5gW_Q_E"
      },
      "source": [
        "### Training the GCN Model"
      ]
    },
    {
      "cell_type": "code",
      "execution_count": null,
      "metadata": {
        "colab": {
          "base_uri": "https://localhost:8080/"
        },
        "id": "zszLPK13O-P-",
        "outputId": "3930d2d2-d007-459b-e2aa-132ffabe4717"
      },
      "outputs": [
        {
          "name": "stdout",
          "output_type": "stream",
          "text": [
            "GCN(\n",
            "  (gcn1): GCNLayer()\n",
            "  (gcn2): GCNLayer()\n",
            ")\n",
            "Epoch   0 | Train Loss: 2.763 | Train Acc:  8.57% | Val Loss: 2.75 | Val Acc: 18.60%\n",
            "Epoch  20 | Train Loss: 0.911 | Train Acc: 73.57% | Val Loss: 1.35 | Val Acc: 56.00%\n",
            "Epoch  40 | Train Loss: 0.178 | Train Acc: 100.00% | Val Loss: 0.87 | Val Acc: 76.00%\n",
            "Epoch  60 | Train Loss: 0.057 | Train Acc: 100.00% | Val Loss: 0.79 | Val Acc: 76.00%\n",
            "Epoch  80 | Train Loss: 0.040 | Train Acc: 100.00% | Val Loss: 0.78 | Val Acc: 76.80%\n",
            "Epoch 100 | Train Loss: 0.035 | Train Acc: 100.00% | Val Loss: 0.78 | Val Acc: 76.80%\n",
            "\n",
            "GCN test accuracy: 80.60%\n"
          ]
        }
      ],
      "source": [
        "gcn = GCN(dataset.num_features, 16, dataset.num_classes)\n",
        "print(gcn)\n",
        "gcn.fit(data, epochs=100, adjacency=adjacency)\n",
        "acc = gcn.test(data, adjacency=adjacency)\n",
        "print(f'\\nGCN test accuracy: {acc*100:.2f}%')"
      ]
    },
    {
      "cell_type": "markdown",
      "metadata": {
        "id": "C7_c8hl4_cx4"
      },
      "source": [
        "### Testing the Manual GCN model and get accuracy"
      ]
    },
    {
      "cell_type": "code",
      "execution_count": null,
      "metadata": {
        "colab": {
          "base_uri": "https://localhost:8080/"
        },
        "id": "x_BTCTrtlL_H",
        "outputId": "344677f1-067c-410f-f89a-b69e487aa3cd"
      },
      "outputs": [
        {
          "name": "stdout",
          "output_type": "stream",
          "text": [
            "\n",
            "GCN test accuracy: 80.60%\n"
          ]
        }
      ],
      "source": [
        "acc = gcn.test(data, adjacency=adjacency)\n",
        "print(f'\\nGCN test accuracy: {acc*100:.2f}%')"
      ]
    },
    {
      "cell_type": "markdown",
      "metadata": {
        "id": "5Fq5VkRrBPoa"
      },
      "source": [
        "### Visualize the Training and Validation Results"
      ]
    },
    {
      "cell_type": "code",
      "execution_count": null,
      "metadata": {
        "colab": {
          "base_uri": "https://localhost:8080/",
          "height": 407
        },
        "id": "fwaCBiTvTLwI",
        "outputId": "96a99aa6-1b19-40b6-fce0-3988247b17c5"
      },
      "outputs": [
        {
          "data": {
            "image/png": "[encoded data removed]",
            "text/plain": [
              "<Figure size 1200x400 with 2 Axes>"
            ]
          },
          "metadata": {},
          "output_type": "display_data"
        }
      ],
      "source": [
        "\n",
        "epochs = range(0, 101, 20)  # Assuming training every 20 epochs\n",
        "\n",
        "# Plot training and validation loss\n",
        "plt.figure(figsize=(12, 4))\n",
        "plt.subplot(1, 2, 1)\n",
        "plt.plot(epochs, gcn_train_losses, label='Training Loss', marker='o')\n",
        "plt.plot(epochs, gcn_val_losses, label='Validation Loss', marker='o')\n",
        "plt.title('Training and Validation Loss')\n",
        "plt.xlabel('Epochs')\n",
        "plt.ylabel('Loss')\n",
        "plt.legend()\n",
        "\n",
        "# Plot training and validation accuracy\n",
        "plt.subplot(1, 2, 2)\n",
        "plt.plot(epochs, gcn_train_accs, label='Training Accuracy', marker='o')\n",
        "plt.plot(epochs, gcn_val_accs, label='Validation Accuracy', marker='o')\n",
        "plt.title('Training and Validation Accuracy')\n",
        "plt.xlabel('Epochs')\n",
        "plt.ylabel('Accuracy')\n",
        "plt.legend()\n",
        "\n",
        "plt.tight_layout()\n",
        "plt.show()"
      ]
    },
    {
      "cell_type": "markdown",
      "metadata": {
        "id": "x-3JaWfXBbp5"
      },
      "source": [
        "### Built-In GCN Class Implementation\n",
        "Using a Built-In implementation from `GCNConv` module of `torch_geometric.nn`"
      ]
    },
    {
      "cell_type": "code",
      "execution_count": null,
      "metadata": {
        "id": "2ftZDoTrUihn"
      },
      "outputs": [],
      "source": [
        "gcn_train_losses, gcn_val_losses =[], []\n",
        "gcn_train_accs, gcn_val_accs =[], []"
      ]
    },
    {
      "cell_type": "code",
      "execution_count": null,
      "metadata": {
        "id": "Frw_pE_mTeZc"
      },
      "outputs": [],
      "source": [
        "import torch\n",
        "torch.manual_seed(1)\n",
        "import torch.nn.functional as F\n",
        "from torch_geometric.nn import GCNConv\n",
        "\n",
        "dataset = Planetoid(root=\".\", name=\"Cora\")\n",
        "data = dataset[0]\n",
        "\n",
        "def accuracy(y_pred, y_true):\n",
        "    \"\"\"Calculate accuracy.\"\"\"\n",
        "    return torch.sum(y_pred == y_true) / len(y_true)\n",
        "\n",
        "\n",
        "class GCN_(torch.nn.Module):\n",
        "    \"\"\"Graph Convolutional Network\"\"\"\n",
        "    def __init__(self, dim_in, dim_h, dim_out):\n",
        "        super().__init__()\n",
        "        self.gcn1 = GCNConv(dim_in, dim_h)\n",
        "        self.gcn2 = GCNConv(dim_h, dim_out)\n",
        "\n",
        "    def forward(self, x, edge_index):\n",
        "        h = self.gcn1(x, edge_index)\n",
        "        h = torch.relu(h)\n",
        "        h = self.gcn2(h, edge_index)\n",
        "        return F.log_softmax(h, dim=1)\n",
        "\n",
        "    def fit(self, data, epochs):\n",
        "        criterion = torch.nn.CrossEntropyLoss()\n",
        "        optimizer = torch.optim.Adam(self.parameters(),\n",
        "                                      lr=0.01,\n",
        "                                      weight_decay=5e-4)\n",
        "\n",
        "        self.train()\n",
        "        for epoch in range(epochs+1):\n",
        "            optimizer.zero_grad()\n",
        "            out = self(data.x, data.edge_index)\n",
        "            loss = criterion(out[data.train_mask], data.y[data.train_mask])\n",
        "            acc = accuracy(out[data.train_mask].argmax(dim=1),\n",
        "                          data.y[data.train_mask])\n",
        "            loss.backward()\n",
        "            optimizer.step()\n",
        "\n",
        "            if(epoch % 20 == 0):\n",
        "                val_loss = criterion(out[data.val_mask], data.y[data.val_mask])\n",
        "                val_acc = accuracy(out[data.val_mask].argmax(dim=1),\n",
        "                                  data.y[data.val_mask])\n",
        "                print(f'Epoch {epoch:>3} | Train Loss: {loss:.3f} | Train Acc:'\n",
        "                      f' {acc*100:>5.2f}% | Val Loss: {val_loss:.2f} | '\n",
        "                      f'Val Acc: {val_acc*100:.2f}%')\n",
        "                # Append the values\n",
        "                # Append the values\n",
        "                gcn_train_losses.append(loss.item())\n",
        "                gcn_val_losses.append(val_loss.item())\n",
        "                gcn_train_accs.append(acc.item())\n",
        "                gcn_val_accs.append(val_acc.item())\n",
        "\n",
        "    @torch.no_grad()\n",
        "    def test(self, data):\n",
        "        self.eval()\n",
        "        out = self(data.x, data.edge_index)\n",
        "        acc = accuracy(out.argmax(dim=1)[data.test_mask], data.y[data.test_mask])\n",
        "        return acc\n",
        "\n"
      ]
    },
    {
      "cell_type": "code",
      "execution_count": null,
      "metadata": {
        "colab": {
          "base_uri": "https://localhost:8080/"
        },
        "id": "rdtmVN6jEXw1",
        "outputId": "6c2c5cee-03f6-4280-9bf3-9065e086810f"
      },
      "outputs": [
        {
          "name": "stdout",
          "output_type": "stream",
          "text": [
            "GCN_(\n",
            "  (gcn1): GCNConv(1433, 16)\n",
            "  (gcn2): GCNConv(16, 7)\n",
            ")\n",
            "Epoch   0 | Train Loss: 1.932 | Train Acc: 15.71% | Val Loss: 1.94 | Val Acc: 15.20%\n",
            "Epoch  20 | Train Loss: 0.099 | Train Acc: 100.00% | Val Loss: 0.75 | Val Acc: 77.80%\n",
            "Epoch  40 | Train Loss: 0.014 | Train Acc: 100.00% | Val Loss: 0.72 | Val Acc: 77.20%\n",
            "Epoch  60 | Train Loss: 0.015 | Train Acc: 100.00% | Val Loss: 0.71 | Val Acc: 77.80%\n",
            "Epoch  80 | Train Loss: 0.017 | Train Acc: 100.00% | Val Loss: 0.71 | Val Acc: 77.00%\n",
            "Epoch 100 | Train Loss: 0.016 | Train Acc: 100.00% | Val Loss: 0.71 | Val Acc: 76.40%\n",
            "\n",
            "GCN test accuracy: 79.70%\n",
            "\n"
          ]
        }
      ],
      "source": [
        "# Create the Vanilla GNN model\n",
        "gcn_ = GCN_(dataset.num_features, 16, dataset.num_classes)\n",
        "print(gcn_)\n",
        "\n",
        "# Train\n",
        "gcn_.fit(data, epochs=100)\n",
        "\n",
        "# Test\n",
        "acc = gcn_.test(data)\n",
        "print(f'\\nGCN test accuracy: {acc*100:.2f}%\\n')"
      ]
    },
    {
      "cell_type": "markdown",
      "metadata": {
        "id": "hPLNBY0cCDVp"
      },
      "source": [
        "### Visualization"
      ]
    },
    {
      "cell_type": "code",
      "execution_count": null,
      "metadata": {
        "colab": {
          "base_uri": "https://localhost:8080/",
          "height": 407
        },
        "id": "iy7dnwM_U2JC",
        "outputId": "e0757133-8682-4d53-ea43-0a5d59d04486"
      },
      "outputs": [
        {
          "data": {
            "image/png": "[encoded data removed]",
            "text/plain": [
              "<Figure size 1200x400 with 2 Axes>"
            ]
          },
          "metadata": {},
          "output_type": "display_data"
        }
      ],
      "source": [
        "\n",
        "epochs = range(0, 101, 20)  # Assuming training every 20 epochs\n",
        "\n",
        "# Plot training and validation loss\n",
        "plt.figure(figsize=(12, 4))\n",
        "plt.subplot(1, 2, 1)\n",
        "plt.plot(epochs, gcn_train_losses, label='Training Loss', marker='o')\n",
        "plt.plot(epochs, gcn_val_losses, label='Validation Loss', marker='o')\n",
        "plt.title('Training and Validation Loss')\n",
        "plt.xlabel('Epochs')\n",
        "plt.ylabel('Loss')\n",
        "plt.legend()\n",
        "\n",
        "# Plot training and validation accuracy\n",
        "plt.subplot(1, 2, 2)\n",
        "plt.plot(epochs, gcn_train_accs, label='Training Accuracy', marker='o')\n",
        "plt.plot(epochs, gcn_val_accs, label='Validation Accuracy', marker='o')\n",
        "plt.title('Training and Validation Accuracy')\n",
        "plt.xlabel('Epochs')\n",
        "plt.ylabel('Accuracy')\n",
        "plt.legend()\n",
        "\n",
        "plt.tight_layout()\n",
        "plt.show()"
      ]
    },
    {
      "cell_type": "markdown",
      "metadata": {
        "id": "i5XAKZDMCJza"
      },
      "source": [
        "## Challenge 2:\n",
        "\n",
        "The Facebook Page-Page dataset This dataset was introduced by Rozemberczki et al. in 2019 [2]. In this dataset, each of the 22,470 nodes represents an official Facebook page.\n",
        "Pages are connected when there are mutual likes between them. Node features (128-dim vectors) are created from textual descriptions written by the owners of these pages. Our goal is to classify each node into one of four categories: politicians, companies, television shows, and governmental organizations.\n",
        "\n",
        "The Facebook Page-Page dataset is similar to the Cora dataset: it’s a social network with a node classification task. However, there are three major differences with Cora:\n",
        "-  The number of nodes is much higher (2,708 versus 22,470)\n",
        "-  The dimensionality of the node features decreased dramatically (from 1,433 to 128)\n",
        "-  The goal is to classify each node into four categories instead of seven (which is easier since there are fewer options)"
      ]
    },
    {
      "cell_type": "markdown",
      "metadata": {
        "id": "Y4ZbXBOsCbQj"
      },
      "source": [
        "Following the previous steps in implementing the Built-In GCN model for the Cora dataset.\n",
        "- Build a GCN model for the Facebook Page-Page dataset\n",
        "\n",
        "\n",
        "`Hint:`\n",
        "\n",
        "- Unlike Cora, Facebook Page-Page doesn’t have training, evaluation, and test masks by default. We can arbitrarily create masks with the range() function as follows:\n",
        "```python\n",
        "data.train_mask = range(18000)\n",
        "data.val_mask = range(18001, 20000)\n",
        "data.test_mask = range(20001, 22470)\n",
        "```\n",
        "\n",
        "- To import the FacebookPagePage Dataset you may use the following code:\n",
        "\n",
        "```python\n",
        "from torch_geometric.datasets import FacebookPagePage\n",
        "```\n",
        "- Then you can download it using this class:\n",
        "```python\n",
        "dataset = FacebookPagePage(root=\".\")\n",
        "```"
      ]
    },
    {
      "cell_type": "code",
      "execution_count": null,
      "metadata": {
        "id": "DPLgjHSmCwIQ"
      },
      "outputs": [],
      "source": [
        "# Your Solution"
      ]
    },
    {
      "cell_type": "markdown",
      "metadata": {
        "id": "GhTY5_J4F9GU"
      },
      "source": [
        "## Challenge 3:\n",
        "Create a DeepGCN class that updates the architecture of the GCN model (built-in)  to include 4 hidden layers while maintaining proper layer sizes, activation functions, and connectivity. See if the new Architecture provide better results for both the Cora and Facebook Datasets.\n",
        "\n",
        "Here are some guidelines to help you achieve this:\n",
        "\n",
        "- Create additional GCNConv layers to expand the depth of the model. You'll need to add two more layers to make a total of four hidden layers.\n",
        "\n",
        "- Make sure each new GCNConv layer takes input from the previous layer and propagates it to the next layer. You should maintain the flow of information and keep it consistent with the original architecture.\n",
        "\n",
        "- Ensure that the dimensions (number of output features) of the layers are suitable for your dataset and task. You might need to adjust these dimensions to achieve the desired performance.\n",
        "\n",
        "- Use appropriate activation functions (e.g., ReLU) after each layer to introduce non-linearity into the model.\n",
        "\n",
        "- Don't forget to update the forward method to include the new layers in the forward pass.\n",
        "\n"
      ]
    },
    {
      "cell_type": "code",
      "execution_count": null,
      "metadata": {
        "id": "tsLVMYSjKJwG"
      },
      "outputs": [],
      "source": [
        "# Your Solution"
      ]
    }
  ],
  "metadata": {
    "colab": {
      "provenance": []
    },
    "kernelspec": {
      "display_name": "Python 3",
      "name": "python3"
    },
    "language_info": {
      "codemirror_mode": {
        "name": "ipython",
        "version": 3
      },
      "file_extension": ".py",
      "mimetype": "text/x-python",
      "name": "python",
      "nbconvert_exporter": "python",
      "pygments_lexer": "ipython3",
      "version": "3.9.12"
    }
  },
  "nbformat": 4,
  "nbformat_minor": 0
}